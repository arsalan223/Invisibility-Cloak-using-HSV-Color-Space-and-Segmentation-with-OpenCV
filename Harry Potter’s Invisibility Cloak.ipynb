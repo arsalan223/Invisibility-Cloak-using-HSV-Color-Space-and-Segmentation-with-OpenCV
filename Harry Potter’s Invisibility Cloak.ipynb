{
 "cells": [
  {
   "cell_type": "code",
   "execution_count": 1,
   "metadata": {},
   "outputs": [],
   "source": [
    "import cv2 as cv\n",
    "import numpy as np\n",
    "import time"
   ]
  },
  {
   "cell_type": "markdown",
   "metadata": {},
   "source": [
    "# Invisibility Cloak using HSV Color Space (For Color Detection) and Segmentation with OpenCV"
   ]
  },
  {
   "cell_type": "code",
   "execution_count": 3,
   "metadata": {},
   "outputs": [],
   "source": [
    "video = cv.VideoCapture('x6.mp4') #Capture/Import Video\n",
    "\n",
    "fourcc = cv.VideoWriter_fourcc(*'XVID') #FourCC video format for output\n",
    "out = cv.VideoWriter('output.avi', fourcc, 30, (1920, 1080)) #arg1=Output_file_name, arg2=file_format, arg3=FPS, arg4=width_&_Height (Note:arg3 & arg4 must be same as input file) \n",
    "\n",
    "time.sleep(3) #give some time for the camera to warm-up\n",
    "\n",
    "background = 0\n",
    "\n",
    "for i in range(30): #getting 30th frame for the background\n",
    "    check, background = video.read()\n",
    "\n",
    "#Optional:\n",
    "#Creating Trackbars to get correct HSV values (if HSV values are known then leave the code related to trackbars)\n",
    "def any_function(x): #Temporary function to be used in cv.createTrackbar()\n",
    "    None\n",
    "\n",
    "cv.namedWindow('Trackbars') #sapereate window for trackbars\n",
    "cv.createTrackbar('LH', 'Trackbars', 75, 180, any_function) #Lower Hue\n",
    "cv.createTrackbar('LS', 'Trackbars', 138, 255, any_function)\n",
    "cv.createTrackbar('LV', 'Trackbars', 5, 255, any_function)\n",
    "\n",
    "cv.createTrackbar('UH', 'Trackbars', 105, 180, any_function)\n",
    "cv.createTrackbar('US', 'Trackbars', 255, 255, any_function)\n",
    "cv.createTrackbar('UV', 'Trackbars', 95, 255, any_function)\n",
    "\n",
    "\n",
    "while 1: #if no frame then break\n",
    "    check, frame = video.read()\n",
    "    if not check:\n",
    "        break\n",
    "\n",
    "    hsv = cv.cvtColor(frame, cv.COLOR_BGR2HSV) #converting current frame to HSV\n",
    "\n",
    "    l_h = cv.getTrackbarPos('LH', 'Trackbars') #getting value/position from trackbar\n",
    "    l_s = cv.getTrackbarPos('LS', 'Trackbars')\n",
    "    l_v = cv.getTrackbarPos('LV', 'Trackbars')\n",
    "    \n",
    "    u_h = cv.getTrackbarPos('UH', 'Trackbars')\n",
    "    u_s = cv.getTrackbarPos('US', 'Trackbars')\n",
    "    u_v = cv.getTrackbarPos('UV', 'Trackbars')\n",
    "    \n",
    "    lower_red = np.array([l_h, l_s, l_v]) #lower boundary of HSV color (to be detected)\n",
    "    upper_red = np.array([u_h, u_s, u_v])\n",
    "    \n",
    "#if lower & Upper HSV values are known then use blow code:\n",
    "#     lower_red = np.array([60, 150, 0]) #lower boundary of HSV color (to be detected)\n",
    "#     upper_red = np.array([140, 255, 255])\n",
    "    \n",
    "    mask = cv.inRange(hsv, lower_red, upper_red)\n",
    "    mask = cv.morphologyEx(mask, cv.MORPH_OPEN, np.ones((6 ,6), np.uint8))\n",
    "    mask = cv.morphologyEx(mask, cv.MORPH_DILATE, np.ones((12, 12), np.uint8))\n",
    "    \n",
    "    invetred_mask = cv.bitwise_not(mask) # 1s become 0 & 0s become 1\n",
    "\n",
    "    masked_frame = cv.bitwise_and(frame, frame, mask=invetred_mask)\n",
    "\n",
    "    masked_background = cv.bitwise_and(background, background, mask=mask)\n",
    "\n",
    "    final_output = cv.addWeighted(masked_frame, 1, masked_background, 1, 0)\n",
    "    \n",
    "    img = cv.resize(final_output, (960, 540)) # Resize image for displaying (final_output will not be affected)\n",
    "    cv.imshow(\"output\", img)\n",
    "#     cv.imshow('mask', cv.resize(mask, (960, 540))) \n",
    "#     cv.imshow('inverted_mask', invetred_mask)\n",
    "\n",
    "    out.write(final_output) #write final frame to output file (Created earlier)\n",
    "\n",
    "    if(cv.waitKey(1)== ord(' ')): #space_bar will break the loop\n",
    "        break\n",
    "    \n",
    "video.release()\n",
    "out.release()\n",
    "cv.destroyAllWindows()"
   ]
  },
  {
   "cell_type": "markdown",
   "metadata": {},
   "source": [
    "# All the blow code blocks are to get correct HSV values. (to be use in above code)"
   ]
  },
  {
   "cell_type": "markdown",
   "metadata": {},
   "source": [
    "## Blow code block is to get specific frame & save as .jpg"
   ]
  },
  {
   "cell_type": "code",
   "execution_count": 88,
   "metadata": {},
   "outputs": [
    {
     "data": {
      "text/plain": [
       "True"
      ]
     },
     "execution_count": 88,
     "metadata": {},
     "output_type": "execute_result"
    }
   ],
   "source": [
    "#can get background frame & object/cloak frame as .jpg\n",
    "cap = cv.VideoCapture('x6.mp4')\n",
    "cap.set(1, 300) #300 is the frame #, to get frame # multiply FPS by time (in seconds)\n",
    "_, frame = cap.read()\n",
    "cap.release()\n",
    "cv.imwrite('frame.jpg', frame) #writing the frame into an image"
   ]
  },
  {
   "cell_type": "markdown",
   "metadata": {},
   "source": [
    "## Getting correct values using trackbars"
   ]
  },
  {
   "cell_type": "code",
   "execution_count": 4,
   "metadata": {},
   "outputs": [],
   "source": [
    "bg = cv.imread('bg.jpg') #in bg.jpg you can add a colored layer with 50% Opacity (Using PhotoShop) to see the difference. \n",
    "fg = cv.imread('frame.jpg')\n",
    "\n",
    "def any_function(x):\n",
    "    None\n",
    "    \n",
    "cv.namedWindow('Trackbars')\n",
    "cv.createTrackbar('LH', 'Trackbars', 75, 180, any_function)\n",
    "cv.createTrackbar('LS', 'Trackbars', 138, 255, any_function)\n",
    "cv.createTrackbar('LV', 'Trackbars', 5, 255, any_function)\n",
    "\n",
    "cv.createTrackbar('UH', 'Trackbars', 105, 180, any_function)\n",
    "cv.createTrackbar('US', 'Trackbars', 255, 255, any_function)\n",
    "cv.createTrackbar('UV', 'Trackbars', 95, 255, any_function)\n",
    "\n",
    "while True:    \n",
    "    hsv = cv.cvtColor(fg, cv.COLOR_BGR2HSV)\n",
    "\n",
    "    l_h = cv.getTrackbarPos('LH', 'Trackbars') #getting value/position from trackbar\n",
    "    l_s = cv.getTrackbarPos('LS', 'Trackbars')\n",
    "    l_v = cv.getTrackbarPos('LV', 'Trackbars')\n",
    "    \n",
    "    u_h = cv.getTrackbarPos('UH', 'Trackbars')\n",
    "    u_s = cv.getTrackbarPos('US', 'Trackbars')\n",
    "    u_v = cv.getTrackbarPos('UV', 'Trackbars')\n",
    "    \n",
    "    lower_red = np.array([l_h, l_s, l_v]) #lower boundary of HSV color (to be detected)\n",
    "    upper_red = np.array([u_h, u_s, u_v])\n",
    "    \n",
    "    mask = cv.inRange(hsv, lower_red, upper_red)\n",
    "    mask = cv.morphologyEx(mask, cv.MORPH_OPEN, np.ones((6 ,6), np.uint8))\n",
    "    mask = cv.morphologyEx(mask, cv.MORPH_DILATE, np.ones((12, 12), np.uint8))\n",
    "\n",
    "    inverted_mask = cv.bitwise_not(mask) # 1s will be 0 & 0s will be 1\n",
    "\n",
    "    masked_frame = cv.bitwise_and(fg, fg, mask=inverted_mask)\n",
    "\n",
    "    masked_background = cv.bitwise_and(bg, bg, mask=mask)\n",
    "\n",
    "    final_output = cv.addWeighted(masked_frame, 1, masked_background, 1, 0)\n",
    "    \n",
    "    img = cv.resize(final_output, (960, 540)) # Resize image only for display\n",
    "    cv.imshow(\"output\", img)\n",
    "#     cv.imshow(\"final\", final_output)\n",
    "#     cv.imshow('HSV', hsv)\n",
    "\n",
    "    if(cv.waitKey(1)== ord(' ')):\n",
    "        break\n",
    "    \n",
    "cv.destroyAllWindows()"
   ]
  }
 ],
 "metadata": {
  "kernelspec": {
   "display_name": "Python 3",
   "language": "python",
   "name": "python3"
  },
  "language_info": {
   "codemirror_mode": {
    "name": "ipython",
    "version": 3
   },
   "file_extension": ".py",
   "mimetype": "text/x-python",
   "name": "python",
   "nbconvert_exporter": "python",
   "pygments_lexer": "ipython3",
   "version": "3.8.1"
  }
 },
 "nbformat": 4,
 "nbformat_minor": 4
}
